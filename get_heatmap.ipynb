{
 "cells": [
  {
   "attachments": {},
   "cell_type": "markdown",
   "metadata": {},
   "source": [
    "# Heatmaps\n",
    "Obtener heatmaps para la caminata de las personas. \n",
    "Importamos ... "
   ]
  },
  {
   "cell_type": "code",
   "execution_count": null,
   "metadata": {},
   "outputs": [
    {
     "ename": "",
     "evalue": "",
     "output_type": "error",
     "traceback": [
      "\u001b[1;31mThe kernel failed to start as the Python Environment 'video_detectioin2' is no longer available. Consider selecting another kernel or refreshing the list of Python Environments."
     ]
    }
   ],
   "source": [
    "from main import detect_frames\n",
    "import numpy as np\n",
    "import cv2"
   ]
  },
  {
   "cell_type": "code",
   "execution_count": null,
   "metadata": {},
   "outputs": [],
   "source": [
    "video_name = \"VIRAT_S_000207_04_000902_000934.mp4\"\n",
    "video_path = os.path.join(\".\",\"sample_data\",video_name)\n",
    "video_out_path = os.path.join(\".\", video_name + \"_out.mp4\")"
   ]
  },
  {
   "cell_type": "code",
   "execution_count": null,
   "metadata": {},
   "outputs": [],
   "source": [
    "all_detections, height, width = detect_frames()\n",
    "\n",
    "heatmap = np.zeros((height, width))\n",
    "\n",
    "for x,y in all_detections:\n",
    "    heatmap[y,x] += 1\n",
    "    \n",
    "# Normalizamos\n",
    "\n",
    "heatmap = heatmap / np.max(heatmap)\n",
    "\n",
    "# Desplegamos el heatmap\n",
    "\n",
    "plt.imshow(heatmap, cmap = 'hot', interpolation = 'nearest')\n",
    "plt.show()"
   ]
  }
 ],
 "metadata": {
  "kernelspec": {
   "display_name": "video_detectioin2",
   "language": "python",
   "name": "python3"
  },
  "language_info": {
   "name": "python",
   "version": "3.8.16"
  },
  "orig_nbformat": 4
 },
 "nbformat": 4,
 "nbformat_minor": 2
}
